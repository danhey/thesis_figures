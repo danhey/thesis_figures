{
 "cells": [
  {
   "cell_type": "code",
   "execution_count": 8,
   "metadata": {},
   "outputs": [],
   "source": [
    "import lightkurve as lk\n",
    "import matplotlib.pyplot as plt\n",
    "from scipy.signal import find_peaks"
   ]
  },
  {
   "cell_type": "code",
   "execution_count": 10,
   "metadata": {},
   "outputs": [],
   "source": [
    "lc = lk.search_lightcurve('KIC 11145123', mission='Kepler').download_all().stitch().remove_nans()"
   ]
  },
  {
   "cell_type": "code",
   "execution_count": 11,
   "metadata": {},
   "outputs": [],
   "source": [
    "from utils import amplitude_spectrum"
   ]
  },
  {
   "cell_type": "code",
   "execution_count": 20,
   "metadata": {},
   "outputs": [],
   "source": [
    "plt.style.use('science')"
   ]
  },
  {
   "cell_type": "code",
   "execution_count": 92,
   "metadata": {},
   "outputs": [
    {
     "data": {
      "text/plain": [
       "Text(0.5, 0, 'Frequency [day$^{-1}$]')"
      ]
     },
     "execution_count": 92,
     "metadata": {},
     "output_type": "execute_result"
    },
    {
     "data": {
      "image/png": "[encoded data removed]",
      "text/plain": [
       "<Figure size 453.6x180 with 2 Axes>"
      ]
     },
     "metadata": {
      "needs_background": "light"
     },
     "output_type": "display_data"
    }
   ],
   "source": [
    "fig, axes = plt.subplots(1,2, figsize=[6.3, 2.5])\n",
    "\n",
    "ax = axes[0]\n",
    "f,a = amplitude_spectrum(lc.time.value, lc.flux.value)\n",
    "ax.plot(f,a*1e3, 'k')\n",
    "ax.set_xlim(0, 24)\n",
    "ax.set_ylim(0, None)\n",
    "ax.axvspan(0, 5, alpha=0.2, color='C2')\n",
    "ax.axvspan(15, 25, alpha=0.2, color='C0')\n",
    "ax.text(0.5,5, 'g-modes', c='C2', fontsize=8, rotation=90)\n",
    "ax.text(15.2,5, 'p-modes', c='C0', fontsize=8, rotation=90)\n",
    "ax.set_xlabel('Frequency [day$^{-1}$]')\n",
    "ax.set_ylabel('Amplitude [ppt]')\n",
    "\n",
    "ax = axes[1]\n",
    "f,a = amplitude_spectrum(lc.time.value, lc.flux.value, fmin=18.98, fmax=19.035)\n",
    "peaks = find_peaks(a*1e3, height=0.2, distance=100)[0]\n",
    "for i in range(len(peaks)-1):\n",
    "    plt.plot((f[p][i]+0.0013, f[p][i+1]-0.0013), (0.3,0.3), c='C3')\n",
    "ax.plot(f,a*1e3, 'k')\n",
    "ax.text(19.02, 0.6, r'P$_{\\rm rot}$ 102.8 d', fontsize=8)\n",
    "ax.set_ylim(0, None)\n",
    "ax.set_xlim(18.98, 19.035)\n",
    "ax.set_xlabel('Frequency [day$^{-1}$]')\n",
    "# plt.savefig('rotation.pdf', dpi=300, bbox_inches='tight', pad_inches=0.)"
   ]
  },
  {
   "cell_type": "code",
   "execution_count": 90,
   "metadata": {},
   "outputs": [
    {
     "data": {
      "text/plain": [
       "1.9468070645621687"
      ]
     },
     "execution_count": 90,
     "metadata": {},
     "output_type": "execute_result"
    }
   ],
   "source": [
    "golden = (1 + 5 ** 0.5) / 2\n",
    "6.3/2 / golden"
   ]
  },
  {
   "cell_type": "code",
   "execution_count": null,
   "metadata": {},
   "outputs": [],
   "source": []
  }
 ],
 "metadata": {
  "kernelspec": {
   "display_name": "Python 3",
   "language": "python",
   "name": "python3"
  },
  "language_info": {
   "codemirror_mode": {
    "name": "ipython",
    "version": 3
   },
   "file_extension": ".py",
   "mimetype": "text/x-python",
   "name": "python",
   "nbconvert_exporter": "python",
   "pygments_lexer": "ipython3",
   "version": "3.8.3"
  }
 },
 "nbformat": 4,
 "nbformat_minor": 4
}
