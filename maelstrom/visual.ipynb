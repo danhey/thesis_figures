{
 "cells": [
  {
   "cell_type": "code",
   "execution_count": 1,
   "metadata": {},
   "outputs": [
    {
     "name": "stdout",
     "output_type": "stream",
     "text": [
      "Connection to online passbands at http://tables.phoebe-project.org could not be established.  Check your internet connection or try again later (can manually call phoebe.list_online_passbands(refresh=True) to retry).  If the problem persists and you're using a Mac, you may need to update openssl (see http://phoebe-project.org/help/faq). Original error from urlopen: timeout timed out\n"
     ]
    }
   ],
   "source": [
    "import phoebe\n",
    "from phoebe import u # units\n",
    "import numpy as np\n",
    "import matplotlib.pyplot as plt\n",
    "\n",
    "logger = phoebe.logger()"
   ]
  },
  {
   "cell_type": "code",
   "execution_count": 2,
   "metadata": {},
   "outputs": [
    {
     "data": {
      "text/plain": [
       "'2.3.53'"
      ]
     },
     "execution_count": 2,
     "metadata": {},
     "output_type": "execute_result"
    }
   ],
   "source": [
    "phoebe.__version__"
   ]
  },
  {
   "cell_type": "code",
   "execution_count": 4,
   "metadata": {},
   "outputs": [
    {
     "name": "stderr",
     "output_type": "stream",
     "text": [
      "Thu, 02 Sep 2021 12:17 BUNDLE       ERROR   Constraint 'ebv@extinction@constraint' raised the following error while setting the value of 'ebv@system'.  Original error: 0 results found for twig: 'None', {'qualifier': 'run_checks_compute', 'context': 'setting', 'check_visible': False, 'check_default': False, 'check_advanced': False, 'check_single': False}\n"
     ]
    },
    {
     "data": {
      "text/plain": [
       "<ParameterSet: 21 parameters | qualifiers: incl, yaw, abun, requiv, gravb_bol, ld_coeffs_source_bol, irrad_frac_lost_bol, logg, pitch, requiv_max, irrad_frac_refl_bol, syncpar, ld_coeffs_bol, teff, ld_mode_bol, long_an, requiv_min, freq, mass, period, ld_func_bol>"
      ]
     },
     "execution_count": 4,
     "metadata": {},
     "output_type": "execute_result"
    }
   ],
   "source": [
    "b = phoebe.Bundle()\n",
    "\n",
    "b.add_component(phoebe.component.star, component='primary')\n",
    "b.add_component('star', component='secondary')\n",
    "b.add_star('extrastarforfun', teff=6000)"
   ]
  },
  {
   "cell_type": "code",
   "execution_count": 5,
   "metadata": {},
   "outputs": [
    {
     "data": {
      "text/plain": [
       "<ParameterSet: 18 parameters | qualifiers: ecosw, q, dperdt, period_anom, freq, t0_perpass, incl, ecc, mean_anom, period, per0, esinw, t0_ref, t0_supconj, sma, long_an, dpdt, asini>"
      ]
     },
     "execution_count": 5,
     "metadata": {},
     "output_type": "execute_result"
    }
   ],
   "source": [
    "b.add_orbit('binary')"
   ]
  },
  {
   "cell_type": "code",
   "execution_count": 6,
   "metadata": {},
   "outputs": [],
   "source": [
    "b.set_hierarchy(phoebe.hierarchy.binaryorbit, b['binary'], b['primary'], b['secondary'])"
   ]
  },
  {
   "cell_type": "code",
   "execution_count": 7,
   "metadata": {},
   "outputs": [
    {
     "data": {
      "text/plain": [
       "<ParameterSet: 84 parameters | contexts: dataset, figure, constraint>"
      ]
     },
     "execution_count": 7,
     "metadata": {},
     "output_type": "execute_result"
    }
   ],
   "source": [
    "b.add_dataset('mesh', compute_times=[0], dataset='mesh01')"
   ]
  },
  {
   "cell_type": "code",
   "execution_count": 9,
   "metadata": {},
   "outputs": [],
   "source": [
    "# b.set_value_all('ntriangles', 500)\n",
    "# b.set_value_all('atm', 'blackbody')\n",
    "# b.set_value_all('ld_mode', value='manual')"
   ]
  },
  {
   "cell_type": "code",
   "execution_count": 10,
   "metadata": {},
   "outputs": [
    {
     "name": "stderr",
     "output_type": "stream",
     "text": [
      "100%|██████████| 1/1 [00:00<00:00, 11.67it/s]\n"
     ]
    },
    {
     "data": {
      "text/plain": [
       "<ParameterSet: 11 parameters | components: secondary, primary>"
      ]
     },
     "execution_count": 10,
     "metadata": {},
     "output_type": "execute_result"
    }
   ],
   "source": [
    "b.run_compute()"
   ]
  },
  {
   "cell_type": "code",
   "execution_count": 11,
   "metadata": {},
   "outputs": [],
   "source": [
    "mplfig = plt.figure(figsize=[6, 2.], constrained_layout=True)\n",
    "\n",
    "# afig, _ = b['lc01@model'].plot(x='phase', axpos=122, rasterized=True,xlim=[-0.5, 0.5])\n",
    "afig, _ = b['mesh01@model'].plot(x='ws', axpos=121, rasterized=True)\n",
    "\n",
    "# fig = plt.figure(figsize=[fig_size()[0], 2.], constrained_layout=True)\n",
    "# mplfig = afig.draw(fig=mplfig)\n",
    "# mplfig.axes[1].axis('off')\n",
    "\n",
    "# mplfig.axes[0].set(xticks=[], xlabel='')\n",
    "# afig, mplanim = b.savefig('figures/EB/detached.pdf', fig=fig, tight_layouot=True,\n",
    "#                          )\n",
    "# mplfig.savefig('figures/EB/contact.pdf')"
   ]
  },
  {
   "cell_type": "code",
   "execution_count": 12,
   "metadata": {},
   "outputs": [],
   "source": [
    "b['mesh01@model'].plot(x='ws',rasterized=True)\n",
    "mplfig.savefig('test.pdf')"
   ]
  },
  {
   "cell_type": "code",
   "execution_count": null,
   "metadata": {},
   "outputs": [],
   "source": []
  }
 ],
 "metadata": {
  "kernelspec": {
   "display_name": "Python [conda env:phoebe]",
   "language": "python",
   "name": "conda-env-phoebe-py"
  },
  "language_info": {
   "codemirror_mode": {
    "name": "ipython",
    "version": 3
   },
   "file_extension": ".py",
   "mimetype": "text/x-python",
   "name": "python",
   "nbconvert_exporter": "python",
   "pygments_lexer": "ipython3",
   "version": "3.6.12"
  }
 },
 "nbformat": 4,
 "nbformat_minor": 4
}
