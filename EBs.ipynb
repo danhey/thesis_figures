{
 "cells": [
  {
   "cell_type": "code",
   "execution_count": 1,
   "metadata": {},
   "outputs": [],
   "source": [
    "import matplotlib.pyplot as plt\n",
    "import numpy as np\n",
    "import starry\n",
    "\n",
    "starry.config.lazy = False\n",
    "starry.config.quiet = True"
   ]
  },
  {
   "cell_type": "markdown",
   "metadata": {},
   "source": [
    "\\begin{align} \\mathrm{ t_{0, \\mathrm{ supconj }, \\mathrm{ binary } } } &= 2458696.0224^{ +0.00024 }_{ -0.00022 } ~\\mathrm{d} \\\\ \\mathrm{ P_\\mathrm{ binary } } &= 51.419432^{ +5.6e-05 }_{ -4.6e-05 } ~\\mathrm{d} \\\\ \\mathrm{ (R_\\mathrm{ equiv, primary } + R_\\mathrm{ equiv, secondary }) / a_\\mathrm{ binary } } &= 0.071274^{ +7.5e-05 }_{ -8.8e-05 } \\mathrm{} \\\\ \\mathrm{ R_\\mathrm{ equiv, secondary } / R_\\mathrm{ equiv, primary } } &= 0.4813^{ +0.0024 }_{ -0.0018 } \\mathrm{} \\\\ \\mathrm{ i_\\mathrm{ binary } } &= 86.3362^{ +0.0068 }_{ -0.0057 } \\mathrm{{}^{\\circ}} \\\\ \\mathrm{ e_\\mathrm{ binary } \\sin \\omega_0 } &= 0.14991^{ +0.00112 }_{ -0.00086 } \\mathrm{} \\\\ \\mathrm{ e_\\mathrm{ binary } \\cos \\omega_0 } &= 0.395688^{ +5.7e-05 }_{ -6.3e-05 } \\mathrm{} \\\\ \\mathrm{ T_{ \\mathrm{ eff }, \\mathrm{ primary } } } &= 11731.0^{ +88.0 }_{ -122.0 } ~\\mathrm{K} \\\\ \\mathrm{ T_\\mathrm{ eff, secondary } / T_\\mathrm{ eff, primary } } &= 1.0846^{ +0.0057 }_{ -0.0091 } \\mathrm{} \\\\ \\mathrm{ q_\\mathrm{ binary } } &= 0.6357^{ +0.0075 }_{ -0.0089 } \\mathrm{} \\\\ \\mathrm{ a_\\mathrm{ primary } } &= 44.636^{ +0.115 }_{ -0.091 } ~\\mathrm{R_{\\odot}} \\\\ \\mathrm{ v_\\gamma } &= -10.851^{ +0.048 }_{ -0.067 } ~\\mathrm{\\frac{km}{s}} \\\\ \\mathrm{ F_\\mathrm{ primary } } &= 6.84^{ +0.64 }_{ -0.44 } \\mathrm{} \\\\ \\mathrm{ F_\\mathrm{ secondary } } &= 13.17^{ +0.63 }_{ -1.25 } \\mathrm{} \\\\ \\mathrm{ L_\\mathrm{ pb, lc01 } } &= 10.191^{ +0.015 }_{ -0.012 } ~\\mathrm{W} \\\\ \\mathrm{ \\sigma_\\mathrm{ lnf, lc01 } } &= -7.89^{ +0.021 }_{ -0.041 } \\mathrm{} \\\\ \\mathrm{ \\sigma_\\mathrm{ lnf, rv01 } } &= -3.049^{ +0.079 }_{ -0.076 } \\mathrm{} \\\\ \\mathrm{ \\beta_{ \\mathrm{bol}, \\mathrm{ primary } } } &= 0.397^{ +0.054 }_{ -0.065 } \\mathrm{} \\\\ \\mathrm{ \\beta_{ \\mathrm{bol}, \\mathrm{ secondary } } } &= 0.625^{ +0.045 }_{ -0.042 } \\mathrm{} \\\\ \\mathrm{ A_{ \\mathrm{bol}, \\mathrm{ primary } } } &= 0.882^{ +0.022 }_{ -0.03 } \\mathrm{} \\\\ \\mathrm{ A_{ \\mathrm{bol}, \\mathrm{ secondary } } } &= 0.683^{ +0.065 }_{ -0.053 } \\mathrm{} \\\\ \\mathrm{ \\mathrm{ ldc }_\\mathrm{ lc01, primary }[0] } &= 0.286^{ +0.05 }_{ -0.041 } \\mathrm{} \\\\ \\mathrm{ \\mathrm{ ldc }_\\mathrm{ lc01, primary }[1] } &= 0.384^{ +0.044 }_{ -0.069 } \\mathrm{} \\\\ \\mathrm{ \\mathrm{ ldc }_\\mathrm{ lc01, secondary }[0] } &= 0.569^{ +0.065 }_{ -0.053 } \\mathrm{} \\\\ \\mathrm{ \\mathrm{ ldc }_\\mathrm{ lc01, secondary }[1] } &= 0.291^{ +0.06 }_{ -0.042 } \\mathrm{} \\\\  \\end{align}"
   ]
  },
  {
   "cell_type": "code",
   "execution_count": 20,
   "metadata": {},
   "outputs": [
    {
     "data": {
      "text/latex": [
       "$48.259508 \\; \\mathrm{\\frac{km}{s}}$"
      ],
      "text/plain": [
       "<Quantity 48.25950837 km / s>"
      ]
     },
     "execution_count": 20,
     "metadata": {},
     "output_type": "execute_result"
    }
   ],
   "source": [
    "import astropy.units as u\n",
    "P = 51.419345 * u.day\n",
    "e = 0.4241\n",
    "a1 = 44.51 * u.R_sun\n",
    "K1 = 2 * np.pi * a1 * np.sin(np.radians(86.328)) / (P * np.sqrt(1 - e**2))\n",
    "K1.to(u.km / u.s)"
   ]
  },
  {
   "cell_type": "code",
   "execution_count": 2,
   "metadata": {},
   "outputs": [],
   "source": [
    "plt.style.use('science')"
   ]
  },
  {
   "cell_type": "code",
   "execution_count": 3,
   "metadata": {},
   "outputs": [],
   "source": [
    "A = starry.Primary(starry.Map(udeg=2, amp=1.0), r=1.0, m=1.0)\n",
    "A.map[1:] = [0.1, 0.1]"
   ]
  },
  {
   "cell_type": "code",
   "execution_count": 4,
   "metadata": {},
   "outputs": [],
   "source": [
    "b = starry.Secondary(\n",
    "    starry.Map(ydeg=10, inc=90.0, obl=0.0, amp=0.1),\n",
    "    r=0.5,\n",
    "    m=0.5,\n",
    "    porb=1.0,\n",
    "    prot=1.0,\n",
    "    t0=0.0,\n",
    "    inc=90.0,\n",
    "    Omega=0.0,\n",
    ")\n",
    "# b.map.load(\"earth\")"
   ]
  },
  {
   "cell_type": "code",
   "execution_count": 5,
   "metadata": {},
   "outputs": [],
   "source": [
    "sys = starry.System(A, b)"
   ]
  },
  {
   "cell_type": "code",
   "execution_count": 6,
   "metadata": {},
   "outputs": [],
   "source": [
    "npts = 100\n",
    "t = np.linspace(-0.5, 0.5, npts)\n",
    "x, y, z = sys.position(t)"
   ]
  },
  {
   "cell_type": "code",
   "execution_count": 7,
   "metadata": {},
   "outputs": [],
   "source": [
    "res = 300\n",
    "theta_sec = [360.0 / sec.prot * (t - sec.t0) - sec.theta0 for sec in sys.secondaries]\n",
    "img = np.array(\n",
    "    [np.tile(sys.primary.map.render(res=300), (npts, 1, 1))]\n",
    "    + [\n",
    "        sec.map.render(theta=theta_sec[i], res=res)\n",
    "        for i, sec in enumerate(sys.secondaries)\n",
    "    ]\n",
    ")"
   ]
  },
  {
   "cell_type": "code",
   "execution_count": 178,
   "metadata": {},
   "outputs": [],
   "source": [
    "sys.show(0., figsize=(5/3,5/3), window_pad=1.7, file='1.png')\n"
   ]
  },
  {
   "cell_type": "code",
   "execution_count": 183,
   "metadata": {},
   "outputs": [
    {
     "data": {
      "image/png": "[encoded data removed]",
      "text/plain": [
       "<Figure size 400x194.4 with 1 Axes>"
      ]
     },
     "metadata": {
      "needs_background": "light"
     },
     "output_type": "display_data"
    }
   ],
   "source": [
    "fig, ax = plt.subplots(figsize=[fig_size()[0], 2.7])\n",
    "ax.plot(t, sys.flux(t), c='black', rasterized=True)\n",
    "ax.set_xlabel(\"Orbital phase\")\n",
    "ax.set_ylabel(\"Flux\")\n",
    "ax.set_xlim(-0.5, 0.5)\n",
    "plt.savefig('main_eb.pdf')"
   ]
  },
  {
   "cell_type": "code",
   "execution_count": 8,
   "metadata": {},
   "outputs": [],
   "source": [
    "flux = sys.flux(t)"
   ]
  },
  {
   "cell_type": "code",
   "execution_count": 9,
   "metadata": {},
   "outputs": [],
   "source": [
    "from utils import fig_size"
   ]
  },
  {
   "cell_type": "code",
   "execution_count": 10,
   "metadata": {},
   "outputs": [],
   "source": [
    "plt.style.use('science')"
   ]
  },
  {
   "cell_type": "code",
   "execution_count": 156,
   "metadata": {},
   "outputs": [
    {
     "data": {
      "image/png": "[encoded data removed]",
      "text/plain": [
       "<Figure size 400x247.214 with 4 Axes>"
      ]
     },
     "metadata": {
      "needs_background": "light"
     },
     "output_type": "display_data"
    }
   ],
   "source": [
    "# def visualize(sys):\n",
    "fig = plt.figure(figsize=fig_size())\n",
    "nrow, ncol = 4, 3\n",
    "aximg = [plt.subplot2grid((nrow, ncol), (0, i)) for i in range(ncol)]\n",
    "ax = plt.subplot2grid((nrow, ncol), (1, 0), colspan=ncol, rowspan=nrow - 1)\n",
    "ax.plot(t, sys.flux(t), c='black', rasterized=True)\n",
    "ax.set_xlabel(\"Orbital phase\")\n",
    "ax.set_ylabel(\"Flux\")\n",
    "theta = np.linspace(0, 360, ncol) + sys.secondaries[0].theta0\n",
    "for j in range(ncol):\n",
    "    for i, xi, yi, zi, map, r in zip(range(1 + len(sys.secondaries)), x, y, z, maps, radii):\n",
    "\n",
    "        # Maps\n",
    "        extent = np.array([xi[0], xi[0], yi[0], yi[0]]) + np.array([-1, 1, -1, 1]) * r\n",
    "        xy[i] = aximg[j].imshow(\n",
    "            img[i, 0],\n",
    "            origin=\"lower\",\n",
    "            cmap=\"plasma\",\n",
    "            extent=extent,\n",
    "            clip_on=False,\n",
    "            zorder=zi[0],\n",
    "        )\n",
    "    \n",
    "# plt.savefig('figures/EB.pdf', dpi=300, bbox_inches='tight')"
   ]
  },
  {
   "cell_type": "code",
   "execution_count": null,
   "metadata": {},
   "outputs": [],
   "source": []
  },
  {
   "cell_type": "code",
   "execution_count": 11,
   "metadata": {},
   "outputs": [],
   "source": [
    "from matplotlib.animation import FuncAnimation\n",
    "from IPython.display import HTML"
   ]
  },
  {
   "cell_type": "code",
   "execution_count": 12,
   "metadata": {},
   "outputs": [],
   "source": [
    "plt.style.use('science')"
   ]
  },
  {
   "cell_type": "code",
   "execution_count": 19,
   "metadata": {},
   "outputs": [
    {
     "data": {
      "image/png": "[encoded data removed]",
      "text/plain": [
       "<Figure size 504x360 with 4 Axes>"
      ]
     },
     "metadata": {
      "needs_background": "light"
     },
     "output_type": "display_data"
    }
   ],
   "source": [
    "fig, ax = plt.subplots(1, figsize=(7, 5))\n",
    "ax_xz = fig.add_axes([0.85, 0.4, 0.2, 0.2])\n",
    "ax_xz.annotate(\n",
    "    \"Top\", fontsize=12, xy=(0, 0), xycoords=\"axes fraction\", ha=\"left\", va=\"bottom\"\n",
    ")\n",
    "# ax_zy = fig.add_axes([0.525, 0.8, 0.2, 0.2])\n",
    "ax_zy = fig.add_axes([0.05, 0.4, 0.2, 0.2])\n",
    "ax_zy.annotate(\n",
    "    \"Side\", fontsize=12, xy=(0, 0), xycoords=\"axes fraction\", ha=\"left\", va=\"bottom\"\n",
    ")\n",
    "ax_lc = fig.add_axes([0.125, 0.05, 0.775, 0.2])\n",
    "\n",
    "xz = [None] + [None for sec in sys.secondaries]\n",
    "xy = [None] + [None for sec in sys.secondaries]\n",
    "zy = [None] + [None for sec in sys.secondaries]\n",
    "circ = [None] + [None for sec in sys.secondaries]\n",
    "maps = [sys.primary.map] + [sec.map for sec in sys.secondaries]\n",
    "radii = np.array([sys.primary.r] + [sec.r for sec in sys.secondaries])\n",
    "\n",
    "for axis, arrs in zip([ax, ax_xz, ax_zy], [(x, y), (x, z), (z, y)]):\n",
    "    axis.axis(\"off\")\n",
    "    R = 1.2 * max(-np.min(arrs), np.max(arrs))\n",
    "    axis.set_xlim(-R, R)\n",
    "    axis.set_ylim(-R, R)\n",
    "\n",
    "# Plot the light curve\n",
    "ax_lc.plot(t, flux, \"k-\")\n",
    "(lc,) = ax_lc.plot(t[0], flux[0], \"o\", color=\"k\")\n",
    "ax_lc.axis(\"off\")\n",
    "\n",
    "# Plot the first frame\n",
    "for i, xi, yi, zi, map, r in zip(range(1 + len(sys.secondaries)), x, y, z, maps, radii):\n",
    "\n",
    "    # Orbit outlines\n",
    "    ax_xz.plot(xi, zi)\n",
    "    ax_zy.plot(zi, yi, c='b')\n",
    "\n",
    "    # Body positions\n",
    "    xz[i] = ax_xz.scatter(xi[0], zi[0])\n",
    "    zy[i] = ax_zy.scatter(zi[0], yi[0])\n",
    "\n",
    "    # Maps\n",
    "    extent = np.array([xi[0], xi[0], yi[0], yi[0]]) + np.array([-1, 1, -1, 1]) * r\n",
    "    xy[i] = ax.imshow(\n",
    "        img[i, 0],\n",
    "        origin=\"lower\",\n",
    "        cmap=\"plasma\",\n",
    "        extent=extent,\n",
    "        clip_on=False,\n",
    "        zorder=zi[0],\n",
    "    )\n",
    "    circ[i] = plt.Circle(\n",
    "        (xi[0], yi[0]), r, color=\"k\", fill=False, zorder=zi[0] + 1e-3, lw=3\n",
    "    )\n",
    "    ax.add_artist(circ[i])\n",
    "\n",
    "# # Animation\n",
    "def updatefig(k):\n",
    "    for i, xi, yi, zi, map, r in zip(\n",
    "        range(1 + len(sys.secondaries)), x, y, z, maps, radii\n",
    "    ):\n",
    "        xz[i].set_offsets((xi[k], zi[k]))\n",
    "        zy[i].set_offsets((zi[k], yi[k]))\n",
    "        xy[i].set_extent(\n",
    "            np.array([xi[k], xi[k], yi[k], yi[k]]) + np.array([-1, 1, -1, 1]) * r\n",
    "        )\n",
    "        xy[i].set_zorder(zi[k])\n",
    "        xy[i].set_data(img[i, k])\n",
    "        circ[i].center = (xi[k], yi[k])\n",
    "        circ[i].set_zorder(zi[k] + 1e-3)\n",
    "    lc.set_xdata(t[k])\n",
    "    lc.set_ydata(flux[k])\n",
    "    return xz + xy + zy + circ + [lc]\n",
    "\n",
    "\n",
    "ani = FuncAnimation(fig, updatefig, interval=30, blit=False, frames=len(t))\n",
    "# plt.close()\n",
    "# display(HTML(ani.to_html5_video()))\n",
    "ani.save('im.mp4')"
   ]
  },
  {
   "cell_type": "code",
   "execution_count": null,
   "metadata": {},
   "outputs": [],
   "source": []
  }
 ],
 "metadata": {
  "kernelspec": {
   "display_name": "Python [conda env:starry]",
   "language": "python",
   "name": "conda-env-starry-py"
  },
  "language_info": {
   "codemirror_mode": {
    "name": "ipython",
    "version": 3
   },
   "file_extension": ".py",
   "mimetype": "text/x-python",
   "name": "python",
   "nbconvert_exporter": "python",
   "pygments_lexer": "ipython3",
   "version": "3.7.9"
  }
 },
 "nbformat": 4,
 "nbformat_minor": 4
}
