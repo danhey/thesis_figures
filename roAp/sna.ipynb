{
 "cells": [
  {
   "cell_type": "code",
   "execution_count": 6,
   "metadata": {},
   "outputs": [],
   "source": [
    "import lightkurve as lk\n",
    "import matplotlib.pyplot as plt\n",
    "import numpy as np"
   ]
  },
  {
   "cell_type": "code",
   "execution_count": 21,
   "metadata": {},
   "outputs": [],
   "source": [
    "from astropy.timeseries import LombScargle\n",
    "\n",
    "def amplitude_spectrum(t, y, fmin=None, fmax=None, freq=None, oversample_factor=10.0):\n",
    "    \"\"\" \n",
    "    Calculates the amplitude spectrum of a given signal\n",
    "    \n",
    "    Parameters\n",
    "    ----------\n",
    "        t : `array`\n",
    "            Time values \n",
    "        y : `array`\n",
    "            Flux or magnitude measurements\n",
    "        fmin : float (default None)\n",
    "            Minimum frequency to calculate spectrum. Defaults to df\n",
    "        fmax : float\n",
    "            Maximum frequency to calculate spectrum. Defaults to Nyquist.\n",
    "        oversample_factor : float\n",
    "            Amount by which to oversample the spectrum. Defaults to 10.\n",
    "    \"\"\"\n",
    "    tmax = t.max()\n",
    "    tmin = t.min()\n",
    "    df = 1.0 / (tmax - tmin)\n",
    "\n",
    "    if fmin is None:\n",
    "        fmin = df\n",
    "    if fmax is None:\n",
    "        fmax = 0.5 / np.median(np.diff(t))  # *nyq_mult\n",
    "    if freq is None:\n",
    "        freq = np.arange(fmin, fmax, df / oversample_factor)\n",
    "    model = LombScargle(t, y)\n",
    "    sc = model.power(freq, method=\"fast\", normalization=\"psd\")\n",
    "\n",
    "    fct = np.sqrt(4.0 / len(t))\n",
    "    amp = np.sqrt(sc) * fct\n",
    "\n",
    "    return freq, amp\n",
    "\n",
    "from scipy.ndimage import gaussian_filter"
   ]
  },
  {
   "cell_type": "code",
   "execution_count": 9,
   "metadata": {},
   "outputs": [],
   "source": [
    "lc_long = lk.search_lightcurve('KIC 10195926', mission='Kepler', cadence='long').download_all().stitch().remove_nans()\n",
    "lc_short = lk.search_lightcurve('KIC 10195926', mission='Kepler', cadence='short')[0].download_all().stitch().remove_nans()"
   ]
  },
  {
   "cell_type": "code",
   "execution_count": 29,
   "metadata": {},
   "outputs": [
    {
     "data": {
      "image/png": "[encoded data removed]",
      "text/plain": [
       "<Figure size 432x288 with 4 Axes>"
      ]
     },
     "metadata": {
      "needs_background": "light"
     },
     "output_type": "display_data"
    }
   ],
   "source": [
    "fig, axes = plt.subplots(2,2, figsize=[6, 4], gridspec_kw={'width_ratios': [1, 0.4]})\n",
    "axes = axes.flatten()\n",
    "\n",
    "ax = axes[0]\n",
    "x, y = lc_long.time.value, lc_long.flux.value\n",
    "filt = y - gaussian_filter(y, 1)\n",
    "f, a = amplitude_spectrum(x, filt, fmax=150)\n",
    "ax.plot(f,a)\n",
    "ax.set(xlim=[0, 150], ylim=[0, None])\n",
    "\n",
    "ax = axes[2]\n",
    "x, y = lc_short.time.value, lc_short.flux.value\n",
    "f, a = amplitude_spectrum(x, y, fmax=150)\n",
    "ax.plot(f,a)\n",
    "ax.set(xlim=[0, 150], ylim=[0, None])\n",
    "ax.invert_yaxis()"
   ]
  },
  {
   "cell_type": "code",
   "execution_count": 20,
   "metadata": {},
   "outputs": [],
   "source": []
  },
  {
   "cell_type": "code",
   "execution_count": 52,
   "metadata": {},
   "outputs": [],
   "source": [
    "diff = np.diff(x)"
   ]
  },
  {
   "cell_type": "code",
   "execution_count": 53,
   "metadata": {},
   "outputs": [
    {
     "data": {
      "image/png": "[encoded data removed]",
      "text/plain": [
       "<Figure size 432x288 with 1 Axes>"
      ]
     },
     "metadata": {
      "needs_background": "light"
     },
     "output_type": "display_data"
    }
   ],
   "source": [
    "plt.hist(diff, bins=100, range=(-10, 10));"
   ]
  },
  {
   "cell_type": "code",
   "execution_count": 54,
   "metadata": {},
   "outputs": [
    {
     "data": {
      "text/plain": [
       "[<matplotlib.lines.Line2D at 0x7fcf7a045b80>]"
      ]
     },
     "execution_count": 54,
     "metadata": {},
     "output_type": "execute_result"
    },
    {
     "data": {
      "image/png": "[encoded data removed]",
      "text/plain": [
       "<Figure size 432x288 with 1 Axes>"
      ]
     },
     "metadata": {
      "needs_background": "light"
     },
     "output_type": "display_data"
    }
   ],
   "source": [
    "m = (diff > -30) & (diff < 30)\n",
    "plt.plot(x[:-1][m], diff[m], ',k')"
   ]
  },
  {
   "cell_type": "code",
   "execution_count": null,
   "metadata": {},
   "outputs": [],
   "source": []
  }
 ],
 "metadata": {
  "kernelspec": {
   "display_name": "Python 3",
   "language": "python",
   "name": "python3"
  },
  "language_info": {
   "codemirror_mode": {
    "name": "ipython",
    "version": 3
   },
   "file_extension": ".py",
   "mimetype": "text/x-python",
   "name": "python",
   "nbconvert_exporter": "python",
   "pygments_lexer": "ipython3",
   "version": "3.8.3"
  }
 },
 "nbformat": 4,
 "nbformat_minor": 4
}
